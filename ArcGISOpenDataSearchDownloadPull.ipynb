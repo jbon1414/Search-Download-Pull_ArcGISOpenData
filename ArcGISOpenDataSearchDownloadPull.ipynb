{
 "cells": [
  {
   "cell_type": "code",
   "execution_count": 2,
   "metadata": {},
   "outputs": [],
   "source": [
    "import pandas as pd\n",
    "from arcgis.features import GeoAccessor\n",
    "from arcgis.gis import GIS\n",
    "import json\n",
    "import arcpy\n",
    "import requests\n",
    "import os"
   ]
  },
  {
   "cell_type": "code",
   "execution_count": 6,
   "metadata": {},
   "outputs": [],
   "source": [
    "class OpenDataAPI(object):\n",
    "    \"\"\"\n",
    "    Search, download, sign in to AGOL, and publish to AGOL ArcGIS' Open Data Site data\n",
    "    \"\"\"\n",
    "    \n",
    "    def __init__(self):\n",
    "        \"\"\"initializer\"\"\"\n",
    "        self._base_url = \"https://opendata.arcgis.com/api/v3\"\n",
    "        self.siz = \"&page%5Bsize%5D=\"\n",
    "        self.num = \"&page%5Bnumber%5D=\"\n",
    "        self.tg = \"&filter%5Btags%5D=\"\n",
    "        \n",
    "        \n",
    "    def search(self, term, size, number, tag):\n",
    "        \"\"\"\n",
    "        This allows you to search ArcGIS' Open Data Site based on the inputs and then you can pick the one wanted \n",
    "        inputs:\n",
    "        term: string - search term REQUIRED\n",
    "        size: integer - the number of objects to be returned OPTIONAL\n",
    "        number: integer - the page number OPTIONAL\n",
    "        tag: list of strings or single string - tags to be associated with search OPTIONAL\n",
    "        return:\n",
    "        re: json - an object that can be downloaded \n",
    "        \"\"\"\n",
    "        #Take search term and add to open data url\n",
    "        combine = \"/datasets?q=\" + term\n",
    "        newquery = (self._base_url + combine)\n",
    "        \n",
    "        #if size is given then add to open data url\n",
    "        if size != \"\":\n",
    "            newquery = (newquery + self.siz + str(size))\n",
    "            \n",
    "        #if number is given then add to open data url\n",
    "        if number != \"\":\n",
    "            newquery = (newquery + self.num + str(number))\n",
    "            \n",
    "        #if tag is given then add to open data url\n",
    "        if tag != \"\":\n",
    "            newquery = (newquery + self.tg + tag)\n",
    "        \n",
    "        #request and send message to user on status\n",
    "        response = requests.get(newquery)\n",
    "        if response:\n",
    "            print('Success!')\n",
    "            #rectrieve the data and place into a form that is easy to read \n",
    "            data = response.json()\n",
    "            rnge = data['meta']['page']['size']\n",
    "            gis = GIS()\n",
    "            return_list =[]\n",
    "            check_list = []\n",
    "            for x in range(rnge):\n",
    "                check_list.append(x)\n",
    "                name = data['data'][x]['attributes']['name']\n",
    "                sid = data['data'][x]['id']\n",
    "                search_result = gis.content.get(sid)\n",
    "                typ = data['data'][x]['type']\n",
    "                return_list.append(f\"RECORD {x}\")\n",
    "                return_list.append(search_result)\n",
    "                return_list.append(f\"Name: {name}, ID = {sid}, type = {typ}\")\n",
    "                return_list.append(\" \")\n",
    "            for x in return_list:\n",
    "                print(x)\n",
    "\n",
    "            #ask the user which object they would like to choose \n",
    "            specific = input(\"Enter RECORD # to download:\")\n",
    "            spec = int(specific)\n",
    "            if spec in check_list:\n",
    "                #return the data of the object chosen \n",
    "                re = data['data'][spec]\n",
    "            else:\n",
    "                re = 'Try a record that is available above'\n",
    "                print(re)\n",
    "        else:\n",
    "            re = 'Not Found. Try again.'\n",
    "            print(re)\n",
    "        return re\n",
    "    \n",
    "    def download(self, re):\n",
    "        \"\"\"\n",
    "        Downloads the returned data from the search function\n",
    "        input:\n",
    "        re: json object - the returned data from the search function\n",
    "        return:\n",
    "        file: file = returns the input object as a file\n",
    "        \"\"\"\n",
    "        sid = re['id']\n",
    "        gis = GIS()\n",
    "        layer = gis.content.get(sid)\n",
    "        file = layer.get_data()\n",
    "        return file\n",
    "    \n",
    "    def signIn(self, url, user, pas):\n",
    "        \"\"\"\n",
    "        Allows you to sign in to your AGOL account \n",
    "        input:\n",
    "        url: string - url to AGOL site\n",
    "        user: string - username\n",
    "        pas: string - password\n",
    "        return:\n",
    "        agol_login: agol instance - This will be used if you would like to add the downloaded data to AGOL\n",
    "        \"\"\"\n",
    "        agol_login = GIS(url, user, pas)\n",
    "        print(\"Logged in as user to \" + agol_login.properties.portalName)\n",
    "        return agol_login\n",
    "    \n",
    "    def addtoAGOL(self, down, search, signIn):\n",
    "        \"\"\"\n",
    "        allow users to publish data to their own ArcGIS Online and populate all the metadata\n",
    "        input:\n",
    "        down: return from the download function REQUIRED \n",
    "        search: return from the search function REQUIRED \n",
    "        signIn: return from the signIn function OPTIONAL\n",
    "        return:\n",
    "        new_item: newly published item \n",
    "        \"\"\"\n",
    "        title = search['attributes']['name']\n",
    "        typ = search['type']\n",
    "        tags = search['attributes']['tags']\n",
    "        if signIn == \"\":\n",
    "            gis = GIS('home')\n",
    "            print(\"Logged in as anonymous user to \" + gis.properties.portalName)\n",
    "            new_item = gis.content.add(item_properties={'title': str(title), 'type' : typ, 'tags' : tags}, data=down)\n",
    "        else:\n",
    "            new_item = signIn.content.add(item_properties={'title': str(title), 'type' : str(typ), 'tags' : tags}, data=down)\n",
    "        return new_item"
   ]
  },
  {
   "cell_type": "code",
   "execution_count": 8,
   "metadata": {},
   "outputs": [
    {
     "name": "stdout",
     "output_type": "stream",
     "text": [
      "Success!\n",
      "RECORD 0\n",
      "<Item title:\"Forest_Ownership\" type:Service Definition owner:gdesanker@conservationfund.org_TCF>\n",
      "Name: Forest Ownership, ID = 97a1439a1ae744328f30f696f17e9946, type = dataset\n",
      " \n",
      "RECORD 1\n",
      "<Item title:\"Forest Reserves\" type:Web Map owner:omerba>\n",
      "Name: Forest Reserves, ID = f3f3654dd7c340e6bd063d83d033350d, type = dataset\n",
      " \n",
      "Enter RECORD # to download:0\n"
     ]
    }
   ],
   "source": [
    "s = OpenDataAPI()\n",
    "#Search for the term forest, return 2 items on page 1 with no tags\n",
    "search_item = s.search(\"forest\", \"2\", \"1\", \"\")\n",
    "\n",
    "#RESPOND BELOW WITH THE RECORD NUMBER YOU WANT, DO NOT CHOOSE WEB MAPS OR APPLICATIONS"
   ]
  },
  {
   "cell_type": "code",
   "execution_count": 9,
   "metadata": {
    "scrolled": true
   },
   "outputs": [],
   "source": [
    "downloaded_item = s.download(search_item)"
   ]
  },
  {
   "cell_type": "code",
   "execution_count": 10,
   "metadata": {},
   "outputs": [
    {
     "name": "stdout",
     "output_type": "stream",
     "text": [
      "Logged in as anonymous user to ArcGIS Online\n"
     ]
    }
   ],
   "source": [
    "#This may take a few minutes \n",
    "new_item = s.addtoAGOL(downloaded_item, search_item, \"\")"
   ]
  },
  {
   "cell_type": "code",
   "execution_count": 11,
   "metadata": {},
   "outputs": [
    {
     "data": {
      "text/html": [
       "<div class=\"item_container\" style=\"height: auto; overflow: hidden; border: 1px solid #cfcfcf; border-radius: 2px; background: #f6fafa; line-height: 1.21429em; padding: 10px;\">\n",
       "                    <div class=\"item_left\" style=\"width: 210px; float: left;\">\n",
       "                       <a href='https://www.arcgis.com//home/item.html?id=93787841d6c54723ac596cf33c66548c' target='_blank'>\n",
       "                        <img src='data:image/png;base64,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' width='200' height='133' class=\"itemThumbnail\">\n",
       "                       </a>\n",
       "                    </div>\n",
       "\n",
       "                    <div class=\"item_right\"     style=\"float: none; width: auto; overflow: hidden;\">\n",
       "                        <a href='https://www.arcgis.com//home/item.html?id=93787841d6c54723ac596cf33c66548c' target='_blank'><b>Forest Ownership</b>\n",
       "                        </a>\n",
       "                        <br/>Forest Owndership<img src='https://www.arcgis.com//home/js/jsapi/esri/css/images/item_type_icons/layers16.png' style=\"vertical-align:middle;\">Service Definition by jbonifi1_GISandData\n",
       "                        <br/>Last Modified: August 13, 2021\n",
       "                        <br/>0 comments, 0 views\n",
       "                    </div>\n",
       "                </div>\n",
       "                "
      ],
      "text/plain": [
       "<Item title:\"Forest Ownership\" type:Service Definition owner:jbonifi1_GISandData>"
      ]
     },
     "execution_count": 11,
     "metadata": {},
     "output_type": "execute_result"
    }
   ],
   "source": [
    "new_item"
   ]
  }
 ],
 "metadata": {
  "kernelspec": {
   "display_name": "Python 3",
   "language": "python",
   "name": "python3"
  },
  "language_info": {
   "codemirror_mode": {
    "name": "ipython",
    "version": 3
   },
   "file_extension": ".py",
   "mimetype": "text/x-python",
   "name": "python",
   "nbconvert_exporter": "python",
   "pygments_lexer": "ipython3",
   "version": "3.8.8"
  }
 },
 "nbformat": 4,
 "nbformat_minor": 2
}
